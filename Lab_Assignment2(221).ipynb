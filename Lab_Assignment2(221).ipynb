{
  "nbformat": 4,
  "nbformat_minor": 0,
  "metadata": {
    "colab": {
      "name": "Lab Assignment2(221).ipynb",
      "provenance": [],
      "collapsed_sections": [],
      "authorship_tag": "ABX9TyMYfeLHYQ9JCQ3WWDcDmDHi",
      "include_colab_link": true
    },
    "kernelspec": {
      "name": "python3",
      "display_name": "Python 3"
    },
    "language_info": {
      "name": "python"
    }
  },
  "cells": [
    {
      "cell_type": "markdown",
      "metadata": {
        "id": "view-in-github",
        "colab_type": "text"
      },
      "source": [
        "<a href=\"https://colab.research.google.com/github/nhoofficial/Assignment-/blob/master/Lab_Assignment2(221).ipynb\" target=\"_parent\"><img src=\"https://colab.research.google.com/assets/colab-badge.svg\" alt=\"Open In Colab\"/></a>"
      ]
    },
    {
      "cell_type": "code",
      "metadata": {
        "colab": {
          "base_uri": "https://localhost:8080/",
          "height": 244
        },
        "id": "0wh5xDFhIZDO",
        "outputId": "4919a82d-8a6c-4705-9c71-0875776a8363"
      },
      "source": [
        "#task1\n",
        "inputFile=open('input1.txt')\n",
        "size=int(inputFile.readline(1))\n",
        "inputFile=inputFile.read()\n",
        "arr=[0]*size\n",
        "arr=[int(x) for x in inputFile.split()]\n",
        "def bubble_sort(arr):\n",
        "    for i in range(len(arr)-1,-1,-1):\n",
        "        if i>0:\n",
        "            if arr[i] < arr[i - 1]:\n",
        "                #   Explanation: As in the bubble sort, we compare each element with another. Suppose, i=0 and a[i-1]=45 and a[i]=28\n",
        "                #                so a[i]<a[i-1] then the second loop will execute.\n",
        "                #                For example, for the best case scenraio our input array a=[1,2,3,4,5,6] then the second will execute O times.\n",
        "                #                Then the time complexity of the following code will be θ(n) instead of θ(n^2).\n",
        "                for j in range(0, i):\n",
        "                    if arr[j] > arr[j + 1]:\n",
        "                        arr[j], arr[j + 1] = arr[j + 1], arr[j]\n",
        "\n",
        "\n",
        "    return arr\n",
        "newfile=open('output1.txt','w')\n",
        "c=bubble_sort(arr)\n",
        "for i in c:\n",
        "    newfile.write(str(i)+\" \")"
      ],
      "execution_count": null,
      "outputs": [
        {
          "output_type": "error",
          "ename": "FileNotFoundError",
          "evalue": "ignored",
          "traceback": [
            "\u001b[0;31m---------------------------------------------------------------------------\u001b[0m",
            "\u001b[0;31mFileNotFoundError\u001b[0m                         Traceback (most recent call last)",
            "\u001b[0;32m<ipython-input-1-7751c6d0f196>\u001b[0m in \u001b[0;36m<module>\u001b[0;34m()\u001b[0m\n\u001b[1;32m      1\u001b[0m \u001b[0;31m#task1\u001b[0m\u001b[0;34m\u001b[0m\u001b[0;34m\u001b[0m\u001b[0;34m\u001b[0m\u001b[0m\n\u001b[0;32m----> 2\u001b[0;31m \u001b[0minputFile\u001b[0m\u001b[0;34m=\u001b[0m\u001b[0mopen\u001b[0m\u001b[0;34m(\u001b[0m\u001b[0;34m'input1.txt'\u001b[0m\u001b[0;34m)\u001b[0m\u001b[0;34m\u001b[0m\u001b[0;34m\u001b[0m\u001b[0m\n\u001b[0m\u001b[1;32m      3\u001b[0m \u001b[0msize\u001b[0m\u001b[0;34m=\u001b[0m\u001b[0mint\u001b[0m\u001b[0;34m(\u001b[0m\u001b[0minputFile\u001b[0m\u001b[0;34m.\u001b[0m\u001b[0mreadline\u001b[0m\u001b[0;34m(\u001b[0m\u001b[0;36m1\u001b[0m\u001b[0;34m)\u001b[0m\u001b[0;34m)\u001b[0m\u001b[0;34m\u001b[0m\u001b[0;34m\u001b[0m\u001b[0m\n\u001b[1;32m      4\u001b[0m \u001b[0minputFile\u001b[0m\u001b[0;34m=\u001b[0m\u001b[0minputFile\u001b[0m\u001b[0;34m.\u001b[0m\u001b[0mread\u001b[0m\u001b[0;34m(\u001b[0m\u001b[0;34m)\u001b[0m\u001b[0;34m\u001b[0m\u001b[0;34m\u001b[0m\u001b[0m\n\u001b[1;32m      5\u001b[0m \u001b[0marr\u001b[0m\u001b[0;34m=\u001b[0m\u001b[0;34m[\u001b[0m\u001b[0;36m0\u001b[0m\u001b[0;34m]\u001b[0m\u001b[0;34m*\u001b[0m\u001b[0msize\u001b[0m\u001b[0;34m\u001b[0m\u001b[0;34m\u001b[0m\u001b[0m\n",
            "\u001b[0;31mFileNotFoundError\u001b[0m: [Errno 2] No such file or directory: 'input1.txt'"
          ]
        }
      ]
    },
    {
      "cell_type": "code",
      "metadata": {
        "id": "DbHXP5w5IhXT"
      },
      "source": [
        "#task2\n",
        "inputFile=open('input2.txt')\n",
        "n,size=inputFile.readline().split(' ')\n",
        "inputFile=inputFile.read()\n",
        "arr=[0]*int(n)\n",
        "arr=[int(x) for x in inputFile.split()]\n",
        "\n",
        "def selection_sort(arr):\n",
        "    n=len(arr)\n",
        "    for i in range(n):\n",
        "        min=arr[i]\n",
        "        min_idx=i\n",
        "        for j in range(i+1,n):\n",
        "            if min>arr[j]:\n",
        "                min=arr[j]\n",
        "                min_idx=j\n",
        "        arr[i],arr[min_idx]=arr[min_idx],arr[i]\n",
        "\n",
        "    return arr\n",
        "c=selection_sort(arr)\n",
        "newfile=open('output2.txt','w')\n",
        "for i in range(int(size)):\n",
        "    newfile.write(str(c[i])+\" \")"
      ],
      "execution_count": null,
      "outputs": []
    },
    {
      "cell_type": "code",
      "metadata": {
        "id": "q8s6dPWHDhX1"
      },
      "source": [
        "#task3\n",
        "inputFile=open('input3.txt')\n",
        "size=int(inputFile.readline())\n",
        "inputFile=inputFile.read()\n",
        "idx=[int(x) for x in inputFile.split()]\n",
        "\n",
        "arr={}\n",
        "A=[]\n",
        "index=size\n",
        "for i in range(size):\n",
        "    arr[idx[i]]=idx[index]\n",
        "    index+=1\n",
        "\n",
        "for i in arr.values():\n",
        "    A.append(i)\n",
        "\n",
        "def insertion_sort(A):\n",
        "    n = len(A)\n",
        "    for i in range(0, n-1):\n",
        "        temp = A[i + 1]\n",
        "        j=i\n",
        "        while j>=0:\n",
        "            if A[j] > temp:\n",
        "                A[j + 1] = A[j]\n",
        "            else:\n",
        "                break\n",
        "            j-=1\n",
        "\n",
        "        A[j+1] = temp\n",
        "    return A\n",
        "c=insertion_sort(A)\n",
        "c.reverse()\n",
        "newfile=open('output3.txt','w')\n",
        "for i in c:\n",
        "    for x,y in arr.items():\n",
        "        if i==y:\n",
        "            newfile.write(str(x)+' ')\n",
        "\n",
        "\n"
      ],
      "execution_count": null,
      "outputs": []
    },
    {
      "cell_type": "code",
      "metadata": {
        "id": "xpM6t7WuIrKv"
      },
      "source": [
        "#task4\n",
        "file=open('input4.txt')\n",
        "size=int(file.readline(1))\n",
        "file=file.read()\n",
        "arr=[0]*size\n",
        "arr=[int(x) for x in file.split()]\n",
        "def merge(A,p,q,r):\n",
        "    n1=q-p+1\n",
        "    n2=r-q\n",
        "    L=[0]*(n1)\n",
        "    R=[0]*(n2)\n",
        "    for i in range(n1):\n",
        "        L[i]=A[p+i-1]\n",
        "    for j in range(n2):\n",
        "        R[j]=A[q+j]\n",
        "    for i in range(0, n1):\n",
        "        L[i] = A[p + i]\n",
        "\n",
        "    for j in range(0, n2):\n",
        "        R[j] = A[q + 1 + j]\n",
        "\n",
        "    i = j= 0\n",
        "    k = p\n",
        "\n",
        "    while i < n1 and j < n2:\n",
        "        if L[i] <= R[j]:\n",
        "            A[k] = L[i]\n",
        "            i += 1\n",
        "        else:\n",
        "            A[k] = R[j]\n",
        "            j += 1\n",
        "        k += 1\n",
        "    while i < n1:\n",
        "        A[k] = L[i]\n",
        "        i += 1\n",
        "        k += 1\n",
        "\n",
        "    while j < n2:\n",
        "        A[k] = R[j]\n",
        "        j += 1\n",
        "        k += 1\n",
        "\n",
        "def mergeSort(A, p, r):\n",
        "    if p < r:\n",
        "        q = (p + (r-1) )// 2\n",
        "        mergeSort(A, p, q)\n",
        "        mergeSort(A, q + 1, r)\n",
        "        merge(A, p, q, r)\n",
        "mergeSort(arr,0,len(arr)-1)\n",
        "new_file=open('output4.txt','w')\n",
        "for i in arr:\n",
        "    new_file.write(str(i)+' ')"
      ],
      "execution_count": null,
      "outputs": []
    }
  ]
}