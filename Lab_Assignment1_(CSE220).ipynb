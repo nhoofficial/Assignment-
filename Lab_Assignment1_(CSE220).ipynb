{
  "nbformat": 4,
  "nbformat_minor": 0,
  "metadata": {
    "colab": {
      "name": "Lab Assignment1 (CSE220).ipynb",
      "provenance": [],
      "authorship_tag": "ABX9TyOOAplKhGKArbDVCKuekAAr",
      "include_colab_link": true
    },
    "kernelspec": {
      "name": "python3",
      "display_name": "Python 3"
    }
  },
  "cells": [
    {
      "cell_type": "markdown",
      "metadata": {
        "id": "view-in-github",
        "colab_type": "text"
      },
      "source": [
        "<a href=\"https://colab.research.google.com/github/nhoofficial/Assignment-/blob/master/Lab_Assignment1_(CSE220).ipynb\" target=\"_parent\"><img src=\"https://colab.research.google.com/assets/colab-badge.svg\" alt=\"Open In Colab\"/></a>"
      ]
    },
    {
      "cell_type": "code",
      "metadata": {
        "colab": {
          "base_uri": "https://localhost:8080/"
        },
        "id": "DDx9LFrjE3w3",
        "outputId": "6d651520-fccb-49c4-f96a-02564b094888"
      },
      "source": [
        "#Task1\r\n",
        "def shiftLeft(source,k):\r\n",
        "    new_lst=[0]*len(source)\r\n",
        "    for i in range(len(source)):\r\n",
        "        new_lst[i]=source[i+k]\r\n",
        "        if i+k==len(source)-1:\r\n",
        "            new_lst[i]=source[i+k]\r\n",
        "            break\r\n",
        "    for i in range(i+k,len(source)):\r\n",
        "        new_lst[i]=0\r\n",
        "    return new_lst\r\n",
        "source=[10,20,30,40,50,60]\r\n",
        "s=shiftLeft(source,3)\r\n",
        "print(s)"
      ],
      "execution_count": 1,
      "outputs": [
        {
          "output_type": "stream",
          "text": [
            "[40, 50, 60, 0, 0, 0]\n"
          ],
          "name": "stdout"
        }
      ]
    },
    {
      "cell_type": "code",
      "metadata": {
        "colab": {
          "base_uri": "https://localhost:8080/"
        },
        "id": "8ucIDSseFEVr",
        "outputId": "bd0f2b70-e9df-43be-c203-62e4eb4b4c5a"
      },
      "source": [
        "#task2\r\n",
        "def rotateLeft(source,k):\r\n",
        "    new_lst=[0]*len(source)#[0,0,0,0,0,0]\r\n",
        "    for i in range(len(source)):  \r\n",
        "        if i+k==(len(source)):\r\n",
        "            break\r\n",
        "        else:\r\n",
        "            new_lst[i]=source[i+k]\r\n",
        "    c=0        \r\n",
        "    for i in range((len(source))-k,len(source)):#6-3,6\r\n",
        "        new_lst[i]=source[c]\r\n",
        "        c+=1\r\n",
        "    return new_lst\r\n",
        "\r\n",
        "source=[10,20,30,40,50,60]\r\n",
        "a=rotateLeft(source,3)\r\n",
        "print(a)\r\n"
      ],
      "execution_count": 2,
      "outputs": [
        {
          "output_type": "stream",
          "text": [
            "[40, 50, 60, 10, 20, 30]\n"
          ],
          "name": "stdout"
        }
      ]
    },
    {
      "cell_type": "code",
      "metadata": {
        "colab": {
          "base_uri": "https://localhost:8080/"
        },
        "id": "UgSsUrbXFJ53",
        "outputId": "f345b08f-8ae9-4b52-e1e8-cde7a647b68d"
      },
      "source": [
        "#task3\r\n",
        "def remove(source,size,idx):\r\n",
        "    for i in range(idx,size):#idx=2,3,4\r\n",
        "        source[i]=source[i+1]#source[2]=40,source[3]=50,\r\n",
        "        if i==(size-1):\r\n",
        "            source[i]=0#source[4]=0\r\n",
        "    return source\r\n",
        "               \r\n",
        "source=[10,20,30,40,50,0,0]\r\n",
        "r=remove(source,5,2)\r\n",
        "print(r)"
      ],
      "execution_count": 3,
      "outputs": [
        {
          "output_type": "stream",
          "text": [
            "[10, 20, 40, 50, 0, 0, 0]\n"
          ],
          "name": "stdout"
        }
      ]
    },
    {
      "cell_type": "code",
      "metadata": {
        "colab": {
          "base_uri": "https://localhost:8080/"
        },
        "id": "9155Dov0FOM4",
        "outputId": "1bf7928a-ec3a-4577-c534-d154d37e2220"
      },
      "source": [
        "#task4\r\n",
        "def removeAll(source,size,element):\r\n",
        "    lst=[]\r\n",
        "    for i in range(size):\r\n",
        "        if source[i]!=element:\r\n",
        "            lst.append(source[i])        \r\n",
        "    c=len(source)-len(lst)   \r\n",
        "    for i in range(c):\r\n",
        "        lst.append(0)\r\n",
        "    source=lst\r\n",
        "    print(source)\r\n",
        "\r\n",
        "source=[10,2,30,2,50,2,2,0,0]\r\n",
        "removeAll(source,7,2)"
      ],
      "execution_count": 4,
      "outputs": [
        {
          "output_type": "stream",
          "text": [
            "[10, 30, 50, 0, 0, 0, 0, 0, 0]\n"
          ],
          "name": "stdout"
        }
      ]
    },
    {
      "cell_type": "code",
      "metadata": {
        "colab": {
          "base_uri": "https://localhost:8080/"
        },
        "id": "v_A1evLgFS9q",
        "outputId": "ccda3979-e5ff-456b-a223-4d2000c37225"
      },
      "source": [
        "#task5\r\n",
        "a=list(map(int,input().rstrip().split(\",\")))\r\n",
        "def spilitting(a):\r\n",
        "    sum=0\r\n",
        "    sum1=0\r\n",
        "    for i in range(len(a)):\r\n",
        "        sum+=a[i]\r\n",
        "    c=sum/2    \r\n",
        "    for i in range(len(a)-1):\r\n",
        "        if sum1==c:\r\n",
        "            i=len(a)-2\r\n",
        "        else:\r\n",
        "            sum1+=float(a[i])\r\n",
        "    if sum1==c:\r\n",
        "        print('True')\r\n",
        "    else:\r\n",
        "        print('False')\r\n",
        "spilitting(a)"
      ],
      "execution_count": 5,
      "outputs": [
        {
          "output_type": "stream",
          "text": [
            "1,1,1,2,1\n",
            "True\n"
          ],
          "name": "stdout"
        }
      ]
    },
    {
      "cell_type": "code",
      "metadata": {
        "colab": {
          "base_uri": "https://localhost:8080/"
        },
        "id": "ksL6JcxvFaIJ",
        "outputId": "6eda8a55-84db-4072-a7f7-000e480784af"
      },
      "source": [
        "#task 6\r\n",
        "def array_series(n):\r\n",
        "    lst = []\r\n",
        "    for i in range(1, n + 1):  # n=2:{0,1,2,1 }\r\n",
        "        for zero in range(0, n - i):  # 2-1=1\r\n",
        "            lst.append(0)\r\n",
        "        for num in range(i, 0, -1):\r\n",
        "            lst.append(num)\r\n",
        "    return lst\r\n",
        "n = int(input())\r\n",
        "a=array_series(n)\r\n",
        "print(a)"
      ],
      "execution_count": 6,
      "outputs": [
        {
          "output_type": "stream",
          "text": [
            "3\n",
            "[0, 0, 1, 0, 2, 1, 3, 2, 1]\n"
          ],
          "name": "stdout"
        }
      ]
    },
    {
      "cell_type": "code",
      "metadata": {
        "colab": {
          "base_uri": "https://localhost:8080/"
        },
        "id": "UGmkDIIwFjtQ",
        "outputId": "b13ad99a-cb34-4aec-d635-a4c08189a26d"
      },
      "source": [
        "#task 7\r\n",
        "def max_occ(lst):\r\n",
        "    c=0\r\n",
        "    x=max(lst,key=lst.count)\r\n",
        "    for i in lst:\r\n",
        "        if (i==x):\r\n",
        "            c+=1\r\n",
        "    n=0\r\n",
        "    newlst=[]        \r\n",
        "    for i in lst:\r\n",
        "        if i==x:\r\n",
        "            n+=1\r\n",
        "        else:\r\n",
        "            if i!=x:\r\n",
        "                newlst.append(n)      \r\n",
        "                n=0\r\n",
        "       \r\n",
        "    newlst.append(n)        \r\n",
        "    hc=0\r\n",
        "    for i in range(len(newlst)):\r\n",
        "        if newlst[i]>hc:\r\n",
        "            hc=newlst[i]\r\n",
        "    return hc\r\n",
        "        \r\n",
        "lst=[1,1,2, 2, 1, 1,1,1]\r\n",
        "a=max_occ(lst)\r\n",
        "print(a)"
      ],
      "execution_count": 7,
      "outputs": [
        {
          "output_type": "stream",
          "text": [
            "4\n"
          ],
          "name": "stdout"
        }
      ]
    },
    {
      "cell_type": "code",
      "metadata": {
        "colab": {
          "base_uri": "https://localhost:8080/"
        },
        "id": "Orrg2v4vFu7s",
        "outputId": "3d59525b-1524-46b0-f4b4-48f7a9766321"
      },
      "source": [
        "#task8\r\n",
        "def repition(a):\r\n",
        "    dic = {}\r\n",
        "    for i in a:\r\n",
        "        dic[i] = 0\r\n",
        "    for i in dic:\r\n",
        "        for j in a:\r\n",
        "            if i == j:\r\n",
        "                dic[i] += 1\r\n",
        "    sup = 0\r\n",
        "    for i in dic:\r\n",
        "        if dic[i] > sup:\r\n",
        "            sup = dic[i]\r\n",
        "    c = 0\r\n",
        "    for i in dic:\r\n",
        "        if dic[i] == sup:\r\n",
        "            c += 1\r\n",
        "    if c >= 2:\r\n",
        "        return True\r\n",
        "    else:\r\n",
        "        return False\r\n",
        "a = [3,4,6,3,4,7,4,6,8,6,6]\r\n",
        "rep=repition(a)\r\n",
        "print(rep)"
      ],
      "execution_count": 8,
      "outputs": [
        {
          "output_type": "stream",
          "text": [
            "False\n"
          ],
          "name": "stdout"
        }
      ]
    },
    {
      "cell_type": "code",
      "metadata": {
        "colab": {
          "base_uri": "https://localhost:8080/"
        },
        "id": "fNluFaTwF0FE",
        "outputId": "f668d498-353f-4433-d978-5b48a8e5f79e"
      },
      "source": [
        "#circular array\r\n",
        "#1\r\n",
        "source=list(map(int,input().rstrip().split(\",\")))\r\n",
        "size=int(input())\r\n",
        "start=int(input())\r\n",
        "def palindrome(source,start,size):\r\n",
        "    lst=[0]*len(source)\r\n",
        "    c=(start+(size-1))%len(source)\r\n",
        "    for i in range(size):\r\n",
        "        lst[start]=source[c]\r\n",
        "        c=(c-1)%len(source)\r\n",
        "        start=(start+1)%len(source)\r\n",
        "    if lst==source:\r\n",
        "        return True\r\n",
        "    else:\r\n",
        "        return False\r\n",
        "c=palindrome(source,start,size)\r\n",
        "print(c)"
      ],
      "execution_count": 9,
      "outputs": [
        {
          "output_type": "stream",
          "text": [
            "10,20,0,0,0,10,20,30\n",
            "5\n",
            "5\n",
            "False\n"
          ],
          "name": "stdout"
        }
      ]
    },
    {
      "cell_type": "code",
      "metadata": {
        "colab": {
          "base_uri": "https://localhost:8080/"
        },
        "id": "NXF647t1F9MJ",
        "outputId": "fa5404cc-0b68-45d7-d892-074b55374672"
      },
      "source": [
        "#circular array\r\n",
        "#task 2\r\n",
        "source1=[40,50,0,0,0,10,20,30]\r\n",
        "source2=[10,20,5,0,0,0,0,0,5,40,15,25]\r\n",
        "def intersection(source1,start_1,size_1,source2,start_2,size_2):\r\n",
        "    new_lst1=[]\r\n",
        "    new_lst2=[]\r\n",
        "    cmn=[]\r\n",
        "    for i in range(size_1):\r\n",
        "        new_lst1.append(source1[start_1])\r\n",
        "        start_1=(start_1+1)%len(source1)\r\n",
        "        \r\n",
        "    for i in range(size_2):\r\n",
        "        new_lst2.append(source2[start_2])\r\n",
        "        start_2=(start_2+1)%len(source2)\r\n",
        "        \r\n",
        "    if len(new_lst1)>len(new_lst2):\r\n",
        "        for i in range(len(new_lst2)):\r\n",
        "            for j in range(len(new_lst1)):\r\n",
        "                if new_lst2[i] in new_lst1:\r\n",
        "                    if new_lst1[i] not in cmn:\r\n",
        "                            cmn.append(new_lst1[i])\r\n",
        "    else:\r\n",
        "        if len(new_lst2)>len(new_lst1):\r\n",
        "            for i in range(len(new_lst1)):    \r\n",
        "                for j in range(len(new_lst2)):\r\n",
        "                    if new_lst1[i] in new_lst2:\r\n",
        "                        if new_lst1[i] not in cmn:\r\n",
        "                            cmn.append(new_lst1[i]) \r\n",
        "        else:\r\n",
        "            for i in range(len(new_lst1)):\r\n",
        "                for j in range(len(new_lst1)):\r\n",
        "                    if new_lst1[i] in new_lst2:\r\n",
        "                        if new_lst1[i] not in cmn:\r\n",
        "                            cmn.append(new_lst1[i])\r\n",
        "    return cmn\r\n",
        "common=intersection(source1,5,5,source2,8,7)    \r\n",
        "print(common)                \r\n",
        "                "
      ],
      "execution_count": 10,
      "outputs": [
        {
          "output_type": "stream",
          "text": [
            "[10, 20, 40]\n"
          ],
          "name": "stdout"
        }
      ]
    }
  ]
}