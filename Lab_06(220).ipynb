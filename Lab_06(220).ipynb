{
  "nbformat": 4,
  "nbformat_minor": 0,
  "metadata": {
    "colab": {
      "name": "Lab 06(220).ipynb",
      "provenance": [],
      "collapsed_sections": [],
      "authorship_tag": "ABX9TyNDj1lnTe2GT1km4Al8k+ZB",
      "include_colab_link": true
    },
    "kernelspec": {
      "name": "python3",
      "display_name": "Python 3"
    },
    "language_info": {
      "name": "python"
    }
  },
  "cells": [
    {
      "cell_type": "markdown",
      "metadata": {
        "id": "view-in-github",
        "colab_type": "text"
      },
      "source": [
        "<a href=\"https://colab.research.google.com/github/nhoofficial/Assignment-/blob/master/Lab_06(220).ipynb\" target=\"_parent\"><img src=\"https://colab.research.google.com/assets/colab-badge.svg\" alt=\"Open In Colab\"/></a>"
      ]
    },
    {
      "cell_type": "code",
      "metadata": {
        "colab": {
          "base_uri": "https://localhost:8080/"
        },
        "id": "liWXna2G4xPE",
        "outputId": "cc9278b9-5dcc-4211-f132-a90255aa1a7a"
      },
      "source": [
        "#task1\n",
        "def selection_sort(a,i):\n",
        "    if i==-1:\n",
        "        return a\n",
        "    else:\n",
        "        max = a[i]\n",
        "        max_idx = i\n",
        "        for j in range(0, i):\n",
        "            if a[j] > max:\n",
        "                max = a[j]\n",
        "                max_idx = j\n",
        "        temp = a[i]\n",
        "        a[i] = max\n",
        "        a[max_idx] = temp\n",
        "        return selection_sort(a,i-1)\n",
        "arr=[12,65,48,75,46,99,44,33]\n",
        "print(selection_sort(arr,(len(arr)-1)))"
      ],
      "execution_count": null,
      "outputs": [
        {
          "output_type": "stream",
          "text": [
            "[12, 33, 44, 46, 48, 65, 75, 99]\n"
          ],
          "name": "stdout"
        }
      ]
    },
    {
      "cell_type": "code",
      "metadata": {
        "colab": {
          "base_uri": "https://localhost:8080/"
        },
        "id": "tXBwcGfc5FE9",
        "outputId": "c24a618f-09fd-4f2c-f7aa-642844b22faf"
      },
      "source": [
        "#task2\n",
        "def insertion_sort(a,i):\n",
        "    if i==len(a):\n",
        "        return a\n",
        "    else:\n",
        "        for j in range(i-1,-1,-1):\n",
        "            if a[j] > a[j+1]:\n",
        "                temp = a[j]\n",
        "                a[j]=a[j+1]\n",
        "                a[j+1]=temp\n",
        "        return insertion_sort(a,i+1)\n",
        "arr=[12,65,48,75,46,99,44,33]\n",
        "print(insertion_sort(arr,0))"
      ],
      "execution_count": null,
      "outputs": [
        {
          "output_type": "stream",
          "text": [
            "[12, 33, 44, 46, 48, 65, 75, 99]\n"
          ],
          "name": "stdout"
        }
      ]
    },
    {
      "cell_type": "code",
      "metadata": {
        "colab": {
          "base_uri": "https://localhost:8080/"
        },
        "id": "UegZ77b0iGIt",
        "outputId": "0d19e622-8d17-4256-919a-4fec11e05073"
      },
      "source": [
        "#task 3\n",
        "class Node:\n",
        "    def __init__(self,element,next):\n",
        "        self.element=element\n",
        "        self.next=next\n",
        "class List:\n",
        "    head=None\n",
        "    def insert(self,a):\n",
        "        tail=None\n",
        "        for i in a:\n",
        "            newNode=Node(i,None)\n",
        "            if self.head == None:\n",
        "                self.head=newNode\n",
        "                tail=newNode\n",
        "            else:\n",
        "                tail.next=newNode\n",
        "                tail=newNode\n",
        "        tail.next=None\n",
        "    def showList(self):\n",
        "        n=self.head\n",
        "        while n!=None:\n",
        "            print(n.element)\n",
        "            n=n.next\n",
        "    def bubble_sort(self):\n",
        "        n=self.head\n",
        "        while n!=None:\n",
        "            a=self.head\n",
        "            while a!=n:\n",
        "                if a.element > n.element:\n",
        "                    temp = a.element\n",
        "                    a.element = n.element\n",
        "                    n.element = temp\n",
        "                a=a.next\n",
        "            n=n.next\n",
        "a=List()\n",
        "a.insert([14,56,28,42,140])\n",
        "a.bubble_sort()\n",
        "a.showList()\n"
      ],
      "execution_count": null,
      "outputs": [
        {
          "output_type": "stream",
          "text": [
            "14\n",
            "28\n",
            "42\n",
            "56\n",
            "140\n"
          ],
          "name": "stdout"
        }
      ]
    },
    {
      "cell_type": "code",
      "metadata": {
        "colab": {
          "base_uri": "https://localhost:8080/"
        },
        "id": "oiI3RDzFQhe1",
        "outputId": "0a742bce-fbb5-4580-9296-36b8413c3a26"
      },
      "source": [
        "#task 4\n",
        "class Node:\n",
        "    def __init__(self,element,next):\n",
        "        self.element=element\n",
        "        self.next=next\n",
        "class List:\n",
        "    head=None\n",
        "    def insert(self,a):\n",
        "        tail=None\n",
        "        for i in a:\n",
        "            newNode=Node(i,None)\n",
        "            if self.head == None:\n",
        "                self.head=newNode\n",
        "                tail=newNode\n",
        "            else:\n",
        "                tail.next=newNode\n",
        "                tail=newNode\n",
        "        tail.next=None\n",
        "    def showList(self):\n",
        "        n=self.head\n",
        "        while n!=None:\n",
        "            print(n.element)\n",
        "            n=n.next\n",
        "\n",
        "    def selection_sort(self):\n",
        "        n=self.head\n",
        "        while n!=None:\n",
        "            a=self.head\n",
        "            max=n.element\n",
        "            max_node=n\n",
        "            while a!=n:\n",
        "                if a.element > max:\n",
        "                    max=a.element\n",
        "                    max_node=a\n",
        "                    temp = n.element\n",
        "                    n.element = max\n",
        "                    max_node.element = temp  \n",
        "                a=a.next\n",
        "            n=n.next\n",
        "\n",
        "\n",
        "a=List()\n",
        "a.insert([45,23,71,1,36,22])\n",
        "a.selection_sort()\n",
        "a.showList()\n"
      ],
      "execution_count": null,
      "outputs": [
        {
          "output_type": "stream",
          "text": [
            "1\n",
            "22\n",
            "23\n",
            "36\n",
            "45\n",
            "71\n"
          ],
          "name": "stdout"
        }
      ]
    },
    {
      "cell_type": "code",
      "metadata": {
        "id": "OEI42W-9g7VK",
        "colab": {
          "base_uri": "https://localhost:8080/"
        },
        "outputId": "a867bd25-61c3-49d8-972b-c40a02deeca6"
      },
      "source": [
        "#task5\n",
        "class Node:\n",
        "    def __init__(self,element,next,prev):\n",
        "        self.element=element\n",
        "        self.next=next\n",
        "        self.prev=prev\n",
        "class DoublyList:\n",
        "    head=None\n",
        "    def insert(self,a):\n",
        "        tail=None\n",
        "        for i in a:\n",
        "            newNode=Node(i,None,None)\n",
        "            if self.head == None:\n",
        "                self.head=newNode\n",
        "                tail=newNode\n",
        "            else:\n",
        "                tail.next=newNode\n",
        "                newNode.prev=tail\n",
        "                tail=newNode\n",
        "        tail.next=None\n",
        "    def showList(self):\n",
        "        n=self.head\n",
        "        while n!=None:\n",
        "            print(n.element)\n",
        "            n=n.next\n",
        "\n",
        "    def insertion_sort(self):\n",
        "        n=self.head.next\n",
        "        while n!=None:\n",
        "            a=n.prev\n",
        "            while a!=None:\n",
        "                if a.element > a.next.element:\n",
        "                    temp = a.next.element\n",
        "                    a.next.element = a.element\n",
        "                    a.element = temp\n",
        "                a=a.prev\n",
        "            n=n.next\n",
        "\n",
        "a=DoublyList()\n",
        "a.insert([12,45,6,2,99,28])\n",
        "a.insertion_sort()\n",
        "a.showList()\n"
      ],
      "execution_count": null,
      "outputs": [
        {
          "output_type": "stream",
          "text": [
            "2\n",
            "6\n",
            "12\n",
            "28\n",
            "45\n",
            "99\n"
          ],
          "name": "stdout"
        }
      ]
    },
    {
      "cell_type": "code",
      "metadata": {
        "colab": {
          "base_uri": "https://localhost:8080/"
        },
        "id": "k85g9IS1lGuC",
        "outputId": "9d9c87af-a988-4eb7-e150-d9b43fc0fcc9"
      },
      "source": [
        "#task6\n",
        "a=[14,23,26,48,75]\n",
        "def binary_search(a,val,l,r):\n",
        "    mid=(l+r)//2\n",
        "    if l>r:\n",
        "        return -1\n",
        "    elif a[mid]==val:\n",
        "        return mid\n",
        "    else:\n",
        "        if a[mid]<val:\n",
        "            return binary_search(a,val,mid+1,r)\n",
        "        else:\n",
        "            return binary_search(a,val,l,mid-1)\n",
        "print(binary_search(a,75,0,len(a)-1))"
      ],
      "execution_count": null,
      "outputs": [
        {
          "output_type": "stream",
          "text": [
            "4\n"
          ],
          "name": "stdout"
        }
      ]
    },
    {
      "cell_type": "code",
      "metadata": {
        "colab": {
          "base_uri": "https://localhost:8080/"
        },
        "id": "XTw6Dp4ml6W2",
        "outputId": "58538881-8e0f-49bb-b9dc-3965e626cb56"
      },
      "source": [
        "#task 7\n",
        "n=int(input(\"Enter number: \"))\n",
        "def fibonacci(n):\n",
        "    if n==1 or n==2:\n",
        "        return 1\n",
        "    else:\n",
        "        return fibonacci(n-1)+fibonacci(n-2)\n",
        "print(fibonacci(n))        \n"
      ],
      "execution_count": null,
      "outputs": [
        {
          "output_type": "stream",
          "text": [
            "Enter number: 10\n",
            "55\n"
          ],
          "name": "stdout"
        }
      ]
    }
  ]
}