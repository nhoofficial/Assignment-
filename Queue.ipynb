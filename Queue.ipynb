{
  "nbformat": 4,
  "nbformat_minor": 0,
  "metadata": {
    "colab": {
      "name": "Queue.ipynb",
      "provenance": [],
      "collapsed_sections": [],
      "authorship_tag": "ABX9TyPg39GU4sK8IXrz6woDZdOO",
      "include_colab_link": true
    },
    "kernelspec": {
      "name": "python3",
      "display_name": "Python 3"
    },
    "language_info": {
      "name": "python"
    }
  },
  "cells": [
    {
      "cell_type": "markdown",
      "metadata": {
        "id": "view-in-github",
        "colab_type": "text"
      },
      "source": [
        "<a href=\"https://colab.research.google.com/github/nhoofficial/Assignment-/blob/master/Queue.ipynb\" target=\"_parent\"><img src=\"https://colab.research.google.com/assets/colab-badge.svg\" alt=\"Open In Colab\"/></a>"
      ]
    },
    {
      "cell_type": "code",
      "metadata": {
        "colab": {
          "base_uri": "https://localhost:8080/"
        },
        "id": "qSIY0hazf7x8",
        "outputId": "8227e66c-0238-4f82-a657-3e4b6b56e3d8"
      },
      "source": [
        "class Queue:\n",
        "    start=0\n",
        "    a=[0]*5\n",
        "    size=0\n",
        "    def enqueue(self,data):\n",
        "        if self.size>=len(self.a):\n",
        "            return f'There is no space in the array'\n",
        "        else:\n",
        "            self.a[(self.start+self.size)%len(self.a)]=data\n",
        "            self.size+=1\n",
        "    def dequeue(self):\n",
        "        if self.size==0:\n",
        "            return None\n",
        "        else:\n",
        "            val=self.a[self.start]\n",
        "            self.a[self.start]=None\n",
        "            self.size-=1\n",
        "            self.start=(self.start+1)%len(self.a)\n",
        "            return val\n",
        "    def peek(self):\n",
        "        return self.a[self.start]\n",
        "a=Queue()\n",
        "a.enqueue(50)\n",
        "a.enqueue(40)\n",
        "a.enqueue(30)\n",
        "a.enqueue(20)\n",
        "a.enqueue(10)\n",
        "print('Removing value: ',a.dequeue())\n",
        "print('New top element: ',a.peek())\n"
      ],
      "execution_count": 3,
      "outputs": [
        {
          "output_type": "stream",
          "text": [
            "Removing value:  50\n",
            "New top element:  40\n"
          ],
          "name": "stdout"
        }
      ]
    },
    {
      "cell_type": "code",
      "metadata": {
        "colab": {
          "base_uri": "https://localhost:8080/"
        },
        "id": "ly1RG0oniAVe",
        "outputId": "ff549f2f-6206-41b8-feba-5e801e2b9766"
      },
      "source": [
        "class Node:\n",
        "    def __init__(self, element, next, prev):\n",
        "        self.element = element\n",
        "        self.next = next\n",
        "        self.prev = prev\n",
        "class Queue:\n",
        "    head=Node(None,None,None)\n",
        "    head.next=head.prev=head\n",
        "    tail=None\n",
        "    def enqueue(self,data):\n",
        "        newNode=Node(data,None,None)\n",
        "        if self.head.next==self.head:\n",
        "            self.head.next=newNode\n",
        "            newNode.next=self.head\n",
        "            newNode.prev=self.head\n",
        "            self.head.prev=newNode\n",
        "            self.tail=newNode\n",
        "        else:\n",
        "            self.tail.next=newNode\n",
        "            newNode.prev=self.tail\n",
        "            newNode.next=self.head\n",
        "            self.head.prev=newNode\n",
        "            self.tail=newNode\n",
        "    def dequeue(self):\n",
        "        temp=self.head.next\n",
        "        self.head.next=temp.next\n",
        "        temp.next.prev=self.head\n",
        "        val=temp.element\n",
        "        temp.prev=temp.element=temp.prev=None\n",
        "        return val\n",
        "    def peek(self):\n",
        "        return self.head.next.element\n",
        "a=Queue()\n",
        "a.enqueue(50)\n",
        "a.enqueue(40)\n",
        "a.enqueue(30)\n",
        "a.enqueue(20)\n",
        "a.enqueue(10)\n",
        "print(a.peek())\n",
        "a.dequeue()\n",
        "print(a.peek())\n"
      ],
      "execution_count": 1,
      "outputs": [
        {
          "output_type": "stream",
          "text": [
            "50\n",
            "40\n"
          ],
          "name": "stdout"
        }
      ]
    }
  ]
}