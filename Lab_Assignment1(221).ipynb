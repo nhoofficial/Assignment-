{
  "nbformat": 4,
  "nbformat_minor": 0,
  "metadata": {
    "colab": {
      "name": "Lab Assignment1(221).ipynb",
      "provenance": [],
      "collapsed_sections": [],
      "authorship_tag": "ABX9TyNe8tSFflf07wrZm9DHQDl4",
      "include_colab_link": true
    },
    "kernelspec": {
      "name": "python3",
      "display_name": "Python 3"
    },
    "language_info": {
      "name": "python"
    }
  },
  "cells": [
    {
      "cell_type": "markdown",
      "metadata": {
        "id": "view-in-github",
        "colab_type": "text"
      },
      "source": [
        "<a href=\"https://colab.research.google.com/github/nhoofficial/Assignment-/blob/master/Lab_Assignment1(221).ipynb\" target=\"_parent\"><img src=\"https://colab.research.google.com/assets/colab-badge.svg\" alt=\"Open In Colab\"/></a>"
      ]
    },
    {
      "cell_type": "code",
      "metadata": {
        "colab": {
          "base_uri": "https://localhost:8080/",
          "height": 244
        },
        "id": "O6xiaF-2wnBf",
        "outputId": "6663292d-47b1-48f5-b87d-79beb6681cef"
      },
      "source": [
        "#task1\n",
        "fdata = open('input.txt')\n",
        "fdata= fdata.read()\n",
        "file = open('output.txt','w')\n",
        "data = fdata.split('\\n')\n",
        "\n",
        "def isPalindrome(data):\n",
        "    a=0#even\n",
        "    b=0#odd\n",
        "    c=0#no parity\n",
        "    d=0#not a palindrome\n",
        "    e=0#palindrome\n",
        "    total=0\n",
        "    total1=0\n",
        "    if data==None:\n",
        "        return f'Not palindrome'\n",
        "    else:\n",
        "        num = []\n",
        "        name = []\n",
        "        for i in data:\n",
        "            if i != \"\":\n",
        "                x, y = i.split(' ')\n",
        "                num.append(x)\n",
        "                name.append(y)\n",
        "        print(name)\n",
        "        for i in range(len(num)):\n",
        "            try:\n",
        "                num[i]=int(num[i])\n",
        "            except:\n",
        "                num[i]=float(num[i])\n",
        "\n",
        "            if type(num[i])==int:\n",
        "                if num[i]%2==0:\n",
        "                    file.write(str(num[i])+' has even parity')\n",
        "                    a+=1\n",
        "                    total+=1\n",
        "                else:\n",
        "                    file.write(str(num[i]) + ' has odd parity')\n",
        "                    b+=1\n",
        "                    total+=1\n",
        "\n",
        "            else:\n",
        "                file.write(str(num[i]) + ' can not have parity')\n",
        "                c+=1\n",
        "                total+=1\n",
        "\n",
        "            new=''\n",
        "            string=name[i]\n",
        "            for k in range(len(string)-1,-1,-1):\n",
        "                new+=string[k]\n",
        "            if new==name[i]:\n",
        "                file.write(' and '+name[i]+' is a palindrome')\n",
        "                e+=1\n",
        "                total1+=1\n",
        "            else:\n",
        "                file.write(' and ' + name[i] + ' is not a palindrome')\n",
        "                d+=1\n",
        "                total1+=1\n",
        "            file.write('\\n')\n",
        "    file2=open('record.txt','w')\n",
        "    file2.write('Percentage of odd parity: '+str(int(b*100/total))+'%')\n",
        "    file2.write('\\nPercentage of even parity: ' + str(int(a * 100 / total)) + '%')\n",
        "    file2.write('\\nPercentage of no parity: ' + str(int(c * 100 / total)) + '%')\n",
        "    file2.write('\\nPercentage of palindrome: ' + str(int(e * 100 / total1)) + '%')\n",
        "    file2.write('\\nPercentage of non-palindrome: ' + str(int(d * 100 / total1)) + '%')\n",
        "\n",
        "\n",
        "\n",
        "isPalindrome(data)\n"
      ],
      "execution_count": null,
      "outputs": [
        {
          "output_type": "error",
          "ename": "FileNotFoundError",
          "evalue": "ignored",
          "traceback": [
            "\u001b[0;31m---------------------------------------------------------------------------\u001b[0m",
            "\u001b[0;31mFileNotFoundError\u001b[0m                         Traceback (most recent call last)",
            "\u001b[0;32m<ipython-input-1-5301bfa01ffb>\u001b[0m in \u001b[0;36m<module>\u001b[0;34m()\u001b[0m\n\u001b[0;32m----> 1\u001b[0;31m \u001b[0mfdata\u001b[0m \u001b[0;34m=\u001b[0m \u001b[0mopen\u001b[0m\u001b[0;34m(\u001b[0m\u001b[0;34m'input.txt'\u001b[0m\u001b[0;34m)\u001b[0m\u001b[0;34m\u001b[0m\u001b[0;34m\u001b[0m\u001b[0m\n\u001b[0m\u001b[1;32m      2\u001b[0m \u001b[0mfdata\u001b[0m\u001b[0;34m=\u001b[0m \u001b[0mfdata\u001b[0m\u001b[0;34m.\u001b[0m\u001b[0mread\u001b[0m\u001b[0;34m(\u001b[0m\u001b[0;34m)\u001b[0m\u001b[0;34m\u001b[0m\u001b[0;34m\u001b[0m\u001b[0m\n\u001b[1;32m      3\u001b[0m \u001b[0mfile\u001b[0m \u001b[0;34m=\u001b[0m \u001b[0mopen\u001b[0m\u001b[0;34m(\u001b[0m\u001b[0;34m'output.txt'\u001b[0m\u001b[0;34m,\u001b[0m\u001b[0;34m'w'\u001b[0m\u001b[0;34m)\u001b[0m\u001b[0;34m\u001b[0m\u001b[0;34m\u001b[0m\u001b[0m\n\u001b[1;32m      4\u001b[0m \u001b[0mdata\u001b[0m \u001b[0;34m=\u001b[0m \u001b[0mfdata\u001b[0m\u001b[0;34m.\u001b[0m\u001b[0msplit\u001b[0m\u001b[0;34m(\u001b[0m\u001b[0;34m'\\n'\u001b[0m\u001b[0;34m)\u001b[0m\u001b[0;34m\u001b[0m\u001b[0;34m\u001b[0m\u001b[0m\n\u001b[1;32m      5\u001b[0m \u001b[0;34m\u001b[0m\u001b[0m\n",
            "\u001b[0;31mFileNotFoundError\u001b[0m: [Errno 2] No such file or directory: 'input.txt'"
          ]
        }
      ]
    },
    {
      "cell_type": "code",
      "metadata": {
        "colab": {
          "base_uri": "https://localhost:8080/",
          "height": 244
        },
        "id": "1vjCD2YdjNHz",
        "outputId": "14771307-d964-4e0e-ade1-237fe0b13d8c"
      },
      "source": [
        "#task4\n",
        "file=open('input4.txt')\n",
        "n=int(file.readline(1))\n",
        "file.readline(2)\n",
        "file=file.read()\n",
        "lst=file.split('\\n')\n",
        "idx=0\n",
        "A = [[], [], []]\n",
        "B = [[], [], []]\n",
        "for i in range(n):\n",
        "    for j in lst[i]:\n",
        "        if j!=' ':\n",
        "            A[i].append(int(j))\n",
        "for i in range(len(A),len(lst)):\n",
        "    if lst[i]!=' ':\n",
        "        for j in lst[i]:\n",
        "            if j != ' ':\n",
        "                B[idx].append(int(j))\n",
        "        idx+=1\n",
        "\n",
        "def Multiply_matrix(A, B):\n",
        "    C = [[0,0,0], [0,0,0], [0,0,0]]\n",
        "    for i in range(n):\n",
        "        for j in range(n):\n",
        "            for k in range(n):\n",
        "                C[i][j] += A[i][k]*B[k][j]\n",
        "    return C\n",
        "result_matrix=Multiply_matrix(A,B)\n",
        "newfile=open('output4.txt','w')\n",
        "for i in result_matrix:\n",
        "    for j in i:\n",
        "        newfile.write(str(j) + \" \")\n",
        "    newfile.write('\\n')"
      ],
      "execution_count": null,
      "outputs": [
        {
          "output_type": "error",
          "ename": "FileNotFoundError",
          "evalue": "ignored",
          "traceback": [
            "\u001b[0;31m---------------------------------------------------------------------------\u001b[0m",
            "\u001b[0;31mFileNotFoundError\u001b[0m                         Traceback (most recent call last)",
            "\u001b[0;32m<ipython-input-1-5fb7faae3f02>\u001b[0m in \u001b[0;36m<module>\u001b[0;34m()\u001b[0m\n\u001b[0;32m----> 1\u001b[0;31m \u001b[0mfile\u001b[0m\u001b[0;34m=\u001b[0m\u001b[0mopen\u001b[0m\u001b[0;34m(\u001b[0m\u001b[0;34m'input4.txt'\u001b[0m\u001b[0;34m)\u001b[0m\u001b[0;34m\u001b[0m\u001b[0;34m\u001b[0m\u001b[0m\n\u001b[0m\u001b[1;32m      2\u001b[0m \u001b[0mn\u001b[0m\u001b[0;34m=\u001b[0m\u001b[0mint\u001b[0m\u001b[0;34m(\u001b[0m\u001b[0mfile\u001b[0m\u001b[0;34m.\u001b[0m\u001b[0mreadline\u001b[0m\u001b[0;34m(\u001b[0m\u001b[0;36m1\u001b[0m\u001b[0;34m)\u001b[0m\u001b[0;34m)\u001b[0m\u001b[0;34m\u001b[0m\u001b[0;34m\u001b[0m\u001b[0m\n\u001b[1;32m      3\u001b[0m \u001b[0mfile\u001b[0m\u001b[0;34m.\u001b[0m\u001b[0mreadline\u001b[0m\u001b[0;34m(\u001b[0m\u001b[0;36m2\u001b[0m\u001b[0;34m)\u001b[0m\u001b[0;34m\u001b[0m\u001b[0;34m\u001b[0m\u001b[0m\n\u001b[1;32m      4\u001b[0m \u001b[0mfile\u001b[0m\u001b[0;34m=\u001b[0m\u001b[0mfile\u001b[0m\u001b[0;34m.\u001b[0m\u001b[0mread\u001b[0m\u001b[0;34m(\u001b[0m\u001b[0;34m)\u001b[0m\u001b[0;34m\u001b[0m\u001b[0;34m\u001b[0m\u001b[0m\n\u001b[1;32m      5\u001b[0m \u001b[0mlst\u001b[0m\u001b[0;34m=\u001b[0m\u001b[0mfile\u001b[0m\u001b[0;34m.\u001b[0m\u001b[0msplit\u001b[0m\u001b[0;34m(\u001b[0m\u001b[0;34m'\\n'\u001b[0m\u001b[0;34m)\u001b[0m\u001b[0;34m\u001b[0m\u001b[0;34m\u001b[0m\u001b[0m\n",
            "\u001b[0;31mFileNotFoundError\u001b[0m: [Errno 2] No such file or directory: 'input4.txt'"
          ]
        }
      ]
    }
  ]
}