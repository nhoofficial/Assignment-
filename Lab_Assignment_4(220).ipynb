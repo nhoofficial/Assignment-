{
  "nbformat": 4,
  "nbformat_minor": 0,
  "metadata": {
    "colab": {
      "name": "Lab Assignment 4(220).ipynb",
      "provenance": [],
      "collapsed_sections": [],
      "authorship_tag": "ABX9TyMzp0XfrjbgYxrn83m2TE1A",
      "include_colab_link": true
    },
    "kernelspec": {
      "name": "python3",
      "display_name": "Python 3"
    },
    "language_info": {
      "name": "python"
    }
  },
  "cells": [
    {
      "cell_type": "markdown",
      "metadata": {
        "id": "view-in-github",
        "colab_type": "text"
      },
      "source": [
        "<a href=\"https://colab.research.google.com/github/nhoofficial/Assignment-/blob/master/Lab_Assignment_4(220).ipynb\" target=\"_parent\"><img src=\"https://colab.research.google.com/assets/colab-badge.svg\" alt=\"Open In Colab\"/></a>"
      ]
    },
    {
      "cell_type": "code",
      "metadata": {
        "colab": {
          "base_uri": "https://localhost:8080/"
        },
        "id": "m3X6xRxW-LB7",
        "outputId": "850a61cf-84dd-4c82-e880-6c13772550b3"
      },
      "source": [
        "#task1\n",
        "class Stack:\n",
        "    size=0\n",
        "    arr=[None]*(100)\n",
        "    def push(self,data):\n",
        "        if len(self.arr)==self.size:\n",
        "            print(\"Stack overflow\")\n",
        "        else:\n",
        "            self.arr[self.size]=data\n",
        "            self.size+=1\n",
        "    def pop(self):\n",
        "        reval=self.arr[self.size-1]\n",
        "        self.arr[self.size-1]=None\n",
        "        self.size-=1\n",
        "        return reval\n",
        "    def peek(self):\n",
        "        if self.size==0:\n",
        "            return None\n",
        "        else:\n",
        "            return self.arr[self.size-1]\n",
        "a=Stack()\n",
        "s=input(\"Enter the equation: \")\n",
        "c=0\n",
        "cnt=0\n",
        "num=1\n",
        "for i in range(len(s)):\n",
        "    if s[i] == \"{\" or s[i]=='[' or s[i]=='(' :\n",
        "        a.push(s[i])\n",
        "        c+=1\n",
        "        num+=1\n",
        "    else:\n",
        "        if s[i]==')' or s[i]=='}' or s[i]==']':\n",
        "            string=\"\"\n",
        "            f=a.peek()\n",
        "            num+=1\n",
        "            if f!=None:\n",
        "                string = f + s[i]\n",
        "                if string == '{}' or string == '[]' or string == '()':\n",
        "                    cnt += 1\n",
        "                    a.pop()\n",
        "            else:\n",
        "                if f==None:\n",
        "                    print(\"This expression is not correct.\")\n",
        "                    print(\"Error at character #\" + str(i+1) + \".\" + s[i] + \" - not opened\")\n",
        "                    break\n",
        "                else:\n",
        "                    cnt-=1\n",
        "                    break\n",
        "if c==cnt and cnt!=0:\n",
        "    print(\"This expression is correct\")\n",
        "else:\n",
        "    if a.peek() != None:\n",
        "        print(\"This expression is not correct.\")\n",
        "        print(\"Error at character #\" + str(num) + \".\" + a.peek() + \" - not closed\")"
      ],
      "execution_count": null,
      "outputs": [
        {
          "output_type": "stream",
          "text": [
            "Enter the equation: ([45+6)}\n",
            "This expression is not correct.\n",
            "Error at character #5.[ - not closed\n"
          ],
          "name": "stdout"
        }
      ]
    },
    {
      "cell_type": "code",
      "metadata": {
        "colab": {
          "base_uri": "https://localhost:8080/"
        },
        "id": "4GbXYsASNiAm",
        "outputId": "4b0f5929-2909-4eff-d44c-e965abaeff67"
      },
      "source": [
        "class Node:\n",
        "    def __init__(self,element,next):\n",
        "        self.element=element\n",
        "        self.next=next\n",
        "class Stack:\n",
        "    head=None\n",
        "    def push(self,data):\n",
        "        newNode=Node(data,None)\n",
        "        if self.head==None:\n",
        "            self.head=newNode\n",
        "        else:\n",
        "            newNode.next=self.head\n",
        "            self.head=newNode\n",
        "    def pop(self):\n",
        "        temp=self.head\n",
        "        self.head=self.head.next\n",
        "        val=temp.element\n",
        "        temp.element=None\n",
        "        temp.next=None\n",
        "        return val\n",
        "    def peek(self):\n",
        "        if self.head==None:\n",
        "            return None\n",
        "        return self.head.element\n",
        "a=Stack()\n",
        "s=input(\"Enter the equation: \")\n",
        "c=0\n",
        "cnt=0\n",
        "num=1\n",
        "for i in range(len(s)):\n",
        "    if s[i] == \"{\" or s[i]=='[' or s[i]=='(' :\n",
        "        a.push(s[i])\n",
        "        c+=1\n",
        "        num+=1\n",
        "    else:\n",
        "        if s[i]==')' or s[i]=='}' or s[i]==']':\n",
        "            string=\"\"\n",
        "            f=a.peek()\n",
        "            num+=1\n",
        "            if f!=None:\n",
        "                string = f + s[i]\n",
        "                if string == '{}' or string == '[]' or string == '()':\n",
        "                    cnt += 1\n",
        "                    a.pop()\n",
        "            else:\n",
        "                if f==None:\n",
        "                    print(\"This expression is not correct.\")\n",
        "                    print(\"Error at character #\" + str(i+1) + \".\" + s[i] + \" - not opened\")\n",
        "                    break\n",
        "                else:\n",
        "                    cnt-=1\n",
        "                    break\n",
        "if c==cnt and cnt!=0:\n",
        "    print(\"This expression is correct\")\n",
        "else:\n",
        "    if a.peek() != None:\n",
        "        print(\"This expression is not correct.\")\n",
        "        print(\"Error at character #\" + str(num) + \".\" + a.peek() + \" - not closed\")"
      ],
      "execution_count": 2,
      "outputs": [
        {
          "output_type": "stream",
          "text": [
            "Enter the equation: 1+2*[3*3+{4–5(6(7/8/9)+10)–11+(12*8)]+14\n",
            "This expression is not correct.\n",
            "Error at character #10.{ - not closed\n"
          ],
          "name": "stdout"
        }
      ]
    },
    {
      "cell_type": "code",
      "metadata": {
        "id": "jUa1sUasNnHN"
      },
      "source": [
        ""
      ],
      "execution_count": null,
      "outputs": []
    }
  ]
}